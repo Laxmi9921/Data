{
  "nbformat": 4,
  "nbformat_minor": 0,
  "metadata": {
    "colab": {
      "provenance": []
    },
    "kernelspec": {
      "name": "python3",
      "display_name": "Python 3"
    },
    "language_info": {
      "name": "python"
    }
  },
  "cells": [
    {
      "cell_type": "markdown",
      "source": [
        "1.write a code a string with your name and print it."
      ],
      "metadata": {
        "id": "z-c_BJpWVa2n"
      }
    },
    {
      "cell_type": "code",
      "source": [
        "print(\"My name is, Laxmi\")"
      ],
      "metadata": {
        "colab": {
          "base_uri": "https://localhost:8080/"
        },
        "id": "7L-n-4_SYssF",
        "outputId": "dbd5d620-1f7b-4eaf-b722-b347b4185fdf"
      },
      "execution_count": 12,
      "outputs": [
        {
          "output_type": "stream",
          "name": "stdout",
          "text": [
            "My name is, Laxmi\n"
          ]
        }
      ]
    },
    {
      "cell_type": "code",
      "source": [
        "char = \"L\"\n",
        "ord(char)"
      ],
      "metadata": {
        "colab": {
          "base_uri": "https://localhost:8080/"
        },
        "id": "0VWxzOS1Y3nL",
        "outputId": "06de967a-66d0-4895-80d7-70c2333b444e"
      },
      "execution_count": 11,
      "outputs": [
        {
          "output_type": "execute_result",
          "data": {
            "text/plain": [
              "76"
            ]
          },
          "metadata": {},
          "execution_count": 11
        }
      ]
    },
    {
      "cell_type": "code",
      "source": [
        "char = \"a\"\n",
        "ord(char)"
      ],
      "metadata": {
        "colab": {
          "base_uri": "https://localhost:8080/"
        },
        "id": "GOYUojBlY77W",
        "outputId": "76764247-6339-42a3-9855-ac931ff18df7"
      },
      "execution_count": 13,
      "outputs": [
        {
          "output_type": "execute_result",
          "data": {
            "text/plain": [
              "97"
            ]
          },
          "metadata": {},
          "execution_count": 13
        }
      ]
    },
    {
      "cell_type": "code",
      "source": [
        "char = \"x\"\n",
        "ord(char)"
      ],
      "metadata": {
        "colab": {
          "base_uri": "https://localhost:8080/"
        },
        "id": "Wt10CL4iZBnd",
        "outputId": "71f84ec5-c2c1-457b-88fa-60a8198e5993"
      },
      "execution_count": 14,
      "outputs": [
        {
          "output_type": "execute_result",
          "data": {
            "text/plain": [
              "120"
            ]
          },
          "metadata": {},
          "execution_count": 14
        }
      ]
    },
    {
      "cell_type": "code",
      "source": [
        "char = \"m\"\n",
        "ord(char)"
      ],
      "metadata": {
        "colab": {
          "base_uri": "https://localhost:8080/"
        },
        "id": "JYM6FJRDZFax",
        "outputId": "9c54ec30-de4d-43e5-93ed-25a7d683d71a"
      },
      "execution_count": 15,
      "outputs": [
        {
          "output_type": "execute_result",
          "data": {
            "text/plain": [
              "109"
            ]
          },
          "metadata": {},
          "execution_count": 15
        }
      ]
    },
    {
      "cell_type": "code",
      "source": [
        "char = \"i\"\n",
        "ord(char)"
      ],
      "metadata": {
        "colab": {
          "base_uri": "https://localhost:8080/"
        },
        "id": "9shIpPmoZI8a",
        "outputId": "0f15f768-2519-4e6f-8396-292d186f2dd7"
      },
      "execution_count": 16,
      "outputs": [
        {
          "output_type": "execute_result",
          "data": {
            "text/plain": [
              "105"
            ]
          },
          "metadata": {},
          "execution_count": 16
        }
      ]
    },
    {
      "cell_type": "markdown",
      "source": [
        "2.Write a code to find the length of the string \"Hello World\"."
      ],
      "metadata": {
        "id": "JcbDsJ03ZSaO"
      }
    },
    {
      "cell_type": "code",
      "source": [
        "text = \"Hello World\"\n",
        "print(len(text))"
      ],
      "metadata": {
        "colab": {
          "base_uri": "https://localhost:8080/"
        },
        "id": "4rXkpeVHZ2uw",
        "outputId": "e5d0d15a-6a62-46e0-b195-25baee8ffe8d"
      },
      "execution_count": 19,
      "outputs": [
        {
          "output_type": "stream",
          "name": "stdout",
          "text": [
            "11\n"
          ]
        }
      ]
    },
    {
      "cell_type": "code",
      "source": [],
      "metadata": {
        "id": "GJQFkLi2aOZB"
      },
      "execution_count": null,
      "outputs": []
    },
    {
      "cell_type": "markdown",
      "source": [
        "3.Write a code to slice the first 3 characters from string \"Python  Programming\"."
      ],
      "metadata": {
        "id": "uucUzQ1xaVu5"
      }
    },
    {
      "cell_type": "code",
      "source": [
        "text = \"Python Programming\"\n",
        "print(text[:3])"
      ],
      "metadata": {
        "colab": {
          "base_uri": "https://localhost:8080/"
        },
        "id": "wjIRWRC0amlJ",
        "outputId": "79dd62d0-ced0-4574-a4c9-37527ceee11c"
      },
      "execution_count": 20,
      "outputs": [
        {
          "output_type": "stream",
          "name": "stdout",
          "text": [
            "Pyt\n"
          ]
        }
      ]
    },
    {
      "cell_type": "markdown",
      "source": [
        "4.Write a code to convert the string \"hello\" to uppercase."
      ],
      "metadata": {
        "id": "Gb_PEXbCa_b2"
      }
    },
    {
      "cell_type": "code",
      "source": [
        "text = \"hello\"\n",
        "upper_text\n",
        "print(upper_text)"
      ],
      "metadata": {
        "colab": {
          "base_uri": "https://localhost:8080/"
        },
        "id": "PqVeGKnVbeoK",
        "outputId": "c5d44686-957f-43a9-fdd7-801fd91d0ff4"
      },
      "execution_count": 24,
      "outputs": [
        {
          "output_type": "stream",
          "name": "stdout",
          "text": [
            "HELLO\n"
          ]
        }
      ]
    },
    {
      "cell_type": "code",
      "source": [],
      "metadata": {
        "id": "keYU3bW3bs_o"
      },
      "execution_count": null,
      "outputs": []
    },
    {
      "cell_type": "markdown",
      "source": [
        "5.Write a code to replace the word \"apple\" to \"orange\" in the string \"I like apple\"."
      ],
      "metadata": {
        "id": "C1_xob8fbxyH"
      }
    },
    {
      "cell_type": "code",
      "source": [],
      "metadata": {
        "id": "nSj6qVUOd3Rk"
      },
      "execution_count": null,
      "outputs": []
    },
    {
      "cell_type": "markdown",
      "source": [
        "6.Write a code to create a list with numbers 1 to 5 and print it."
      ],
      "metadata": {
        "id": "C2s5e-n-e74-"
      }
    },
    {
      "cell_type": "code",
      "source": [
        "list = [1, 2, 3, 4, 5]\n",
        "print(list)"
      ],
      "metadata": {
        "colab": {
          "base_uri": "https://localhost:8080/"
        },
        "id": "cqDqvOu6e7WE",
        "outputId": "869ba6df-8e38-49e2-e7bf-7c216c264acb"
      },
      "execution_count": 39,
      "outputs": [
        {
          "output_type": "stream",
          "name": "stdout",
          "text": [
            "[1, 2, 3, 4, 5]\n"
          ]
        }
      ]
    },
    {
      "cell_type": "markdown",
      "source": [
        "7.Write a code to append the number 10 to the list [1, 2, 3, 4]"
      ],
      "metadata": {
        "id": "KTCul6oEfk66"
      }
    },
    {
      "cell_type": "code",
      "source": [
        "list = [1, 2, 3, 4]\n",
        "list.append(10)\n",
        "print(list)"
      ],
      "metadata": {
        "colab": {
          "base_uri": "https://localhost:8080/"
        },
        "id": "a5ChxZcTfd8g",
        "outputId": "a1439d66-7db6-4a4c-f9fa-c6555be2b57d"
      },
      "execution_count": 40,
      "outputs": [
        {
          "output_type": "stream",
          "name": "stdout",
          "text": [
            "[1, 2, 3, 4, 10]\n"
          ]
        }
      ]
    },
    {
      "cell_type": "markdown",
      "source": [
        "8.Write a code to remove the number 3 from the list [1, 2, 3, 4, 5]"
      ],
      "metadata": {
        "id": "JrPxFlhCgPmJ"
      }
    },
    {
      "cell_type": "code",
      "source": [
        "list = [1, 2, 3, 4, 5]\n",
        "list.remove(3)\n",
        "print(list)"
      ],
      "metadata": {
        "colab": {
          "base_uri": "https://localhost:8080/"
        },
        "id": "0FUqujHlgNdk",
        "outputId": "26285249-94d9-48e8-c547-af98dbabd144"
      },
      "execution_count": 41,
      "outputs": [
        {
          "output_type": "stream",
          "name": "stdout",
          "text": [
            "[1, 2, 4, 5]\n"
          ]
        }
      ]
    },
    {
      "cell_type": "markdown",
      "source": [
        "9.Write a code to access the second element in the list ['a', 'b', 'c', 'd']"
      ],
      "metadata": {
        "id": "ak12JTRKgzD0"
      }
    },
    {
      "cell_type": "code",
      "source": [
        "letters = ['a', 'b', 'c', 'd']\n",
        "second_element = letters[1]\n",
        "print(second_element)"
      ],
      "metadata": {
        "colab": {
          "base_uri": "https://localhost:8080/"
        },
        "id": "pQR1UNp1gwtE",
        "outputId": "9cfd4048-58b1-4b06-88a0-af1089db7ee6"
      },
      "execution_count": 43,
      "outputs": [
        {
          "output_type": "stream",
          "name": "stdout",
          "text": [
            "b\n"
          ]
        }
      ]
    },
    {
      "cell_type": "markdown",
      "source": [
        "10.Write a code to reverse the list [10, 20, 30, 40, 50]"
      ],
      "metadata": {
        "id": "jBv40msDhkGZ"
      }
    },
    {
      "cell_type": "code",
      "source": [
        "numbers = [10, 20, 30, 40, 50]\n",
        "numbers.reverse()\n",
        "print(numbers)"
      ],
      "metadata": {
        "colab": {
          "base_uri": "https://localhost:8080/"
        },
        "id": "0ofhmECchZdY",
        "outputId": "fd168cb4-4922-4fe0-9e05-3fbb425fef0a"
      },
      "execution_count": 44,
      "outputs": [
        {
          "output_type": "stream",
          "name": "stdout",
          "text": [
            "[50, 40, 30, 20, 10]\n"
          ]
        }
      ]
    },
    {
      "cell_type": "code",
      "source": [],
      "metadata": {
        "id": "4jg-SnP3h_L4"
      },
      "execution_count": null,
      "outputs": []
    },
    {
      "cell_type": "markdown",
      "source": [
        "11.Write a code to create a tuple with element 100, 200, 300 and print it."
      ],
      "metadata": {
        "id": "xDaSjJsHiBY1"
      }
    },
    {
      "cell_type": "code",
      "source": [
        "my_tuple = (100, 200, 300)\n",
        "print(my_tuple)"
      ],
      "metadata": {
        "colab": {
          "base_uri": "https://localhost:8080/"
        },
        "id": "TqMqoLPliecm",
        "outputId": "e38a72f3-0fc4-4ef8-efdc-b5517eae5dd1"
      },
      "execution_count": 49,
      "outputs": [
        {
          "output_type": "stream",
          "name": "stdout",
          "text": [
            "(100, 200, 300)\n"
          ]
        }
      ]
    },
    {
      "cell_type": "markdown",
      "source": [
        "12.Write a code to access the second-to-last element of the tuple('red', 'green', 'blue', 'yellow')"
      ],
      "metadata": {
        "id": "Dpu5y1kDi-El"
      }
    },
    {
      "cell_type": "code",
      "source": [
        "tuple = ('red', 'green', 'blue', 'yellow')\n",
        "second_last = tuple[-2]\n",
        "print(second_last)"
      ],
      "metadata": {
        "colab": {
          "base_uri": "https://localhost:8080/"
        },
        "id": "hkOZFMs6irep",
        "outputId": "832b2971-ad7f-4687-fca9-23706e628e28"
      },
      "execution_count": 52,
      "outputs": [
        {
          "output_type": "stream",
          "name": "stdout",
          "text": [
            "blue\n"
          ]
        }
      ]
    },
    {
      "cell_type": "markdown",
      "source": [
        "13.Write a code to find the minimum number in the tuple (10, 20, 5, 15)"
      ],
      "metadata": {
        "id": "9ZWoWtHJjzeM"
      }
    },
    {
      "cell_type": "code",
      "source": [
        "numbers = (10, 20, 5, 15)\n",
        "min_number = min(numbers)\n",
        "print(min_number)"
      ],
      "metadata": {
        "colab": {
          "base_uri": "https://localhost:8080/"
        },
        "id": "4JlGfql0jtim",
        "outputId": "542b265b-aa69-4890-bab4-a94bcd5942b3"
      },
      "execution_count": 53,
      "outputs": [
        {
          "output_type": "stream",
          "name": "stdout",
          "text": [
            "5\n"
          ]
        }
      ]
    },
    {
      "cell_type": "markdown",
      "source": [
        "14.Write a code to find the index of the element \"cat\" in the tuple ('dog', 'cat', 'rabbit')."
      ],
      "metadata": {
        "id": "b-6pz14GkTGa"
      }
    },
    {
      "cell_type": "code",
      "source": [
        "animals = (\"dog\", \"cat\", \"rabbit\")\n",
        "cat_index = animals.index(\"cat\")\n",
        "print(cat_index)"
      ],
      "metadata": {
        "colab": {
          "base_uri": "https://localhost:8080/"
        },
        "id": "RKghilnikQL6",
        "outputId": "890224fa-32c8-46c0-9e57-58590ee12134"
      },
      "execution_count": 54,
      "outputs": [
        {
          "output_type": "stream",
          "name": "stdout",
          "text": [
            "1\n"
          ]
        }
      ]
    },
    {
      "cell_type": "markdown",
      "source": [
        "15.Write a code to create a tuple containing three different fruits and check if \"kiwi\" is in it."
      ],
      "metadata": {
        "id": "Sg4CJd32lN66"
      }
    },
    {
      "cell_type": "code",
      "source": [
        "fruits = (\"apple\", \"banana\", \"kiwi\")\n",
        "if \"kiwi\" in fruits:\n",
        "    print(\"kiwi is in the tuple.\")\n",
        "else:\n",
        "    print(\"kiwi is not in the tuple\")"
      ],
      "metadata": {
        "colab": {
          "base_uri": "https://localhost:8080/"
        },
        "id": "F6pwAKj8lMY-",
        "outputId": "bd40191a-bbf3-4c29-d111-c6fb32314ba5"
      },
      "execution_count": 55,
      "outputs": [
        {
          "output_type": "stream",
          "name": "stdout",
          "text": [
            "kiwi is in the tuple.\n"
          ]
        }
      ]
    },
    {
      "cell_type": "markdown",
      "source": [
        "16.Write a code to create a set with element  'a', 'b', 'c' and print it."
      ],
      "metadata": {
        "id": "M4IoljnUl_5y"
      }
    },
    {
      "cell_type": "code",
      "source": [
        "set = {'a', 'b', 'c'}\n",
        "print(set)"
      ],
      "metadata": {
        "colab": {
          "base_uri": "https://localhost:8080/"
        },
        "id": "u3mO1XVxl8im",
        "outputId": "74fa1b09-0fb0-4ba8-9f2a-ade5e5276b52"
      },
      "execution_count": 58,
      "outputs": [
        {
          "output_type": "stream",
          "name": "stdout",
          "text": [
            "{'c', 'b', 'a'}\n"
          ]
        }
      ]
    },
    {
      "cell_type": "markdown",
      "source": [
        "17.Write a code to clear all element from the set {1, 2, 3, 4, 5}"
      ],
      "metadata": {
        "id": "fCCSwdtlnHDT"
      }
    },
    {
      "cell_type": "code",
      "source": [
        "set = {1, 2, 3, 4, 5}\n",
        "set.clear()\n",
        "print(set)"
      ],
      "metadata": {
        "colab": {
          "base_uri": "https://localhost:8080/"
        },
        "id": "I1afHSikmni8",
        "outputId": "be7e04cb-deaa-4120-f3cc-400b09413c26"
      },
      "execution_count": 60,
      "outputs": [
        {
          "output_type": "stream",
          "name": "stdout",
          "text": [
            "set()\n"
          ]
        }
      ]
    },
    {
      "cell_type": "markdown",
      "source": [
        "18.Write a code to remove the element 4 from the set {1, 2, 3, 4}"
      ],
      "metadata": {
        "id": "DON78UoqoDcq"
      }
    },
    {
      "cell_type": "code",
      "source": [
        "set = {1, 2, 3, 4}\n",
        "set.remove(4)\n",
        "print(set)"
      ],
      "metadata": {
        "colab": {
          "base_uri": "https://localhost:8080/"
        },
        "id": "HhZWoamAn3pw",
        "outputId": "d466790c-6b3a-4019-f91a-110d76d68900"
      },
      "execution_count": 62,
      "outputs": [
        {
          "output_type": "stream",
          "name": "stdout",
          "text": [
            "{1, 2, 3}\n"
          ]
        }
      ]
    },
    {
      "cell_type": "markdown",
      "source": [
        "19.Write a code to find the union of two sets {1, 2, 3} and  {3, 4, 5}"
      ],
      "metadata": {
        "id": "EHHdknlHou2y"
      }
    },
    {
      "cell_type": "code",
      "source": [
        "set1 = {1, 2, 3}\n",
        "set2 = {3, 4, 5}\n",
        "union_set = set1.union(set2)\n",
        "print(union_set)"
      ],
      "metadata": {
        "colab": {
          "base_uri": "https://localhost:8080/"
        },
        "id": "MIVmZkuDo4X_",
        "outputId": "eea072e2-a309-40ef-e5d7-7359ce051e38"
      },
      "execution_count": 64,
      "outputs": [
        {
          "output_type": "stream",
          "name": "stdout",
          "text": [
            "{1, 2, 3, 4, 5}\n"
          ]
        }
      ]
    },
    {
      "cell_type": "markdown",
      "source": [
        "20.Write a code to find the intersection of two sets {1, 2, 3} and {2, 3, 4}"
      ],
      "metadata": {
        "id": "FMr4uStFpRPP"
      }
    },
    {
      "cell_type": "code",
      "source": [
        "set1 = {1, 2, 3}\n",
        "set2 = {2, 3, 4}\n",
        "intersection_set = set1.intersection(set2)\n",
        "print(intersection_set)"
      ],
      "metadata": {
        "colab": {
          "base_uri": "https://localhost:8080/"
        },
        "id": "0BdlM6BPpPkw",
        "outputId": "868df004-e835-4556-b86f-e123a4a70f7b"
      },
      "execution_count": 66,
      "outputs": [
        {
          "output_type": "stream",
          "name": "stdout",
          "text": [
            "{2, 3}\n"
          ]
        }
      ]
    },
    {
      "cell_type": "markdown",
      "source": [
        "21.Write a code to create a dictionary with the keys \"name\", \"age\", and \"city\", and print it."
      ],
      "metadata": {
        "id": "NqXvMqkoqIxX"
      }
    },
    {
      "cell_type": "code",
      "source": [
        "person = {\n",
        "    \"name\": \"Laxmi\",\n",
        "    \"age\": \"25\",\n",
        "    \"city\": \"Mumbai\"\n",
        "}\n",
        "print(person)"
      ],
      "metadata": {
        "colab": {
          "base_uri": "https://localhost:8080/"
        },
        "id": "nni82FoSp3Pg",
        "outputId": "0f34b0b4-e9de-43f1-9a49-30c9212f0389"
      },
      "execution_count": 67,
      "outputs": [
        {
          "output_type": "stream",
          "name": "stdout",
          "text": [
            "{'name': 'Laxmi', 'age': '25', 'city': 'Mumbai'}\n"
          ]
        }
      ]
    },
    {
      "cell_type": "markdown",
      "source": [
        "22.Write a code to add a new key-value pair \"country\":\"USA\" to the dictionary {'name':'John', 'age':'25'}"
      ],
      "metadata": {
        "id": "_48tDp4gq2hI"
      }
    },
    {
      "cell_type": "code",
      "source": [
        "person = {\n",
        "    'name': 'John',\n",
        "    'age': '25'\n",
        "}\n",
        "person['country'] = 'USA'\n",
        "print(person)"
      ],
      "metadata": {
        "colab": {
          "base_uri": "https://localhost:8080/"
        },
        "id": "XTuRHrsmqyTD",
        "outputId": "191c5603-a669-46f5-d49d-2692cdc4787c"
      },
      "execution_count": 68,
      "outputs": [
        {
          "output_type": "stream",
          "name": "stdout",
          "text": [
            "{'name': 'John', 'age': '25', 'country': 'USA'}\n"
          ]
        }
      ]
    },
    {
      "cell_type": "markdown",
      "source": [
        "23.Write a code to access the value associated with the key \"name\" in the dictionary {'name': 'Alice', 'age':'30'}"
      ],
      "metadata": {
        "id": "EHUyOff1r0gn"
      }
    },
    {
      "cell_type": "code",
      "source": [
        "person = {\n",
        "    'name':'Alice',\n",
        "    'age':'30'\n",
        "}\n",
        "name_value = person['name']\n",
        "print(name_value)"
      ],
      "metadata": {
        "colab": {
          "base_uri": "https://localhost:8080/"
        },
        "id": "rlPMg23VryHE",
        "outputId": "ede5788e-5be9-472f-ccd8-b7da3e85b96b"
      },
      "execution_count": 69,
      "outputs": [
        {
          "output_type": "stream",
          "name": "stdout",
          "text": [
            "Alice\n"
          ]
        }
      ]
    },
    {
      "cell_type": "code",
      "source": [],
      "metadata": {
        "id": "qyoSMBmxs0H6"
      },
      "execution_count": null,
      "outputs": []
    },
    {
      "cell_type": "markdown",
      "source": [
        "24.Write  a code to remove the key \"age\" from the dictionary {'name':'Bob', 'age';'22','city':'New york'}"
      ],
      "metadata": {
        "id": "lzF0vJRJs1vZ"
      }
    },
    {
      "cell_type": "code",
      "source": [
        "person = {'name':'bob', 'age':'22', 'city':'New York'}\n",
        "person.pop('age')\n",
        "print(person)"
      ],
      "metadata": {
        "colab": {
          "base_uri": "https://localhost:8080/"
        },
        "id": "k4O89fgytTLo",
        "outputId": "45ccd3ee-df03-472f-8fed-4cf6465af16e"
      },
      "execution_count": 72,
      "outputs": [
        {
          "output_type": "stream",
          "name": "stdout",
          "text": [
            "{'name': 'bob', 'city': 'New York'}\n"
          ]
        }
      ]
    },
    {
      "cell_type": "markdown",
      "source": [
        "25.Write a code to check if the key \"city\" exists in the dictionary {'name':'Alice', 'city':'paris'}"
      ],
      "metadata": {
        "id": "rW5lS_OfumMb"
      }
    },
    {
      "cell_type": "markdown",
      "source": [],
      "metadata": {
        "id": "iO9coffNul8F"
      }
    },
    {
      "cell_type": "code",
      "source": [
        "person = {'name':'Alice', 'City':'Paris'}\n",
        "if 'city' in person:\n",
        "    print(\"Key 'city' exists in the dictionary.\")\n",
        "else:\n",
        "    print(\"key 'city' does not exists in the dictionary\")"
      ],
      "metadata": {
        "colab": {
          "base_uri": "https://localhost:8080/"
        },
        "id": "MSX3NUAlt_6O",
        "outputId": "20738234-c574-4d5d-a43f-a96244dd68a6"
      },
      "execution_count": 73,
      "outputs": [
        {
          "output_type": "stream",
          "name": "stdout",
          "text": [
            "key 'city' does not exists in the dictionary\n"
          ]
        }
      ]
    },
    {
      "cell_type": "markdown",
      "source": [
        "26.Write a code to create a list, a tuple, and a dictionary, and print them all"
      ],
      "metadata": {
        "id": "9eaV2Ti1v5Ht"
      }
    },
    {
      "cell_type": "code",
      "source": [
        "list = [1, 2, 3]\n",
        "tuple = ('a', 'b', 'c')\n",
        "dict = {'name':'Alice', 'age':'25'}\n",
        "print(\"List:\", list)\n",
        "print(\"Tuple:\", tuple)\n",
        "print(\"dictionary:\", dict)"
      ],
      "metadata": {
        "colab": {
          "base_uri": "https://localhost:8080/"
        },
        "id": "dj2lRE-Wv0rc",
        "outputId": "dfb82376-d817-47a8-cf8f-abc641668bf4"
      },
      "execution_count": 74,
      "outputs": [
        {
          "output_type": "stream",
          "name": "stdout",
          "text": [
            "List: [1, 2, 3]\n",
            "Tuple: ('a', 'b', 'c')\n",
            "dictionary: {'name': 'Alice', 'age': '25'}\n"
          ]
        }
      ]
    },
    {
      "cell_type": "markdown",
      "source": [
        "27.Write a code to create a list of 5 random numbers 1 and 100, sort it in ascending order, and print the result."
      ],
      "metadata": {
        "id": "9hEEM-DFw3Qa"
      }
    },
    {
      "cell_type": "code",
      "source": [
        "import random\n",
        "random_numbers = random.sample(range(1,101),5)\n",
        "random_numbers.sort()\n",
        "print(random_numbers)"
      ],
      "metadata": {
        "colab": {
          "base_uri": "https://localhost:8080/"
        },
        "id": "BoEeSkdaxh06",
        "outputId": "13c9b7b4-2922-4a67-e507-782aaf8d610c"
      },
      "execution_count": 78,
      "outputs": [
        {
          "output_type": "stream",
          "name": "stdout",
          "text": [
            "[17, 21, 26, 36, 95]\n"
          ]
        }
      ]
    },
    {
      "cell_type": "markdown",
      "source": [
        "28.Write a code to create a list with strings and print th eelement at the third index"
      ],
      "metadata": {
        "id": "R5HkXUi_ybVJ"
      }
    },
    {
      "cell_type": "code",
      "source": [
        "list = [\"apple\", \"banana\", \"cherry\", \"date\"]\n",
        "print(list[2])"
      ],
      "metadata": {
        "colab": {
          "base_uri": "https://localhost:8080/"
        },
        "id": "jJ5Litonx8is",
        "outputId": "a02ec7d1-ed6c-403e-967e-d6729979b21f"
      },
      "execution_count": 79,
      "outputs": [
        {
          "output_type": "stream",
          "name": "stdout",
          "text": [
            "cherry\n"
          ]
        }
      ]
    },
    {
      "cell_type": "code",
      "source": [],
      "metadata": {
        "id": "S3389IibzDcm"
      },
      "execution_count": null,
      "outputs": []
    },
    {
      "cell_type": "markdown",
      "source": [
        "29.Write a code to combine two dictionaries into one and print the result."
      ],
      "metadata": {
        "id": "GqVenCtEzIA2"
      }
    },
    {
      "cell_type": "code",
      "source": [
        "dict1 = {'a':1, 'b':2}\n",
        "dict2 = {'c':3, 'd':4}\n",
        "combined_dict = {**dict1, **dict2}\n",
        "print(combined_dict)"
      ],
      "metadata": {
        "colab": {
          "base_uri": "https://localhost:8080/"
        },
        "id": "l6yTO8EgzQIK",
        "outputId": "03e0f05a-4750-4667-eadb-33f28eef78d2"
      },
      "execution_count": 80,
      "outputs": [
        {
          "output_type": "stream",
          "name": "stdout",
          "text": [
            "{'a': 1, 'b': 2, 'c': 3, 'd': 4}\n"
          ]
        }
      ]
    },
    {
      "cell_type": "code",
      "source": [],
      "metadata": {
        "id": "FWA0ni00zxYE"
      },
      "execution_count": null,
      "outputs": []
    },
    {
      "cell_type": "markdown",
      "source": [
        "30.Write a code to convert a list of strings into a set."
      ],
      "metadata": {
        "id": "qPf9lajUzzjS"
      }
    },
    {
      "cell_type": "code",
      "source": [],
      "metadata": {
        "id": "_2iAcvpY1Wt7"
      },
      "execution_count": null,
      "outputs": []
    }
  ]
}